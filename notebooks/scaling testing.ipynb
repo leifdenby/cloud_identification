{
 "cells": [
  {
   "cell_type": "code",
   "execution_count": 20,
   "metadata": {},
   "outputs": [],
   "source": [
    "import numpy as np\n",
    "from math import sqrt"
   ]
  },
  {
   "cell_type": "code",
   "execution_count": 21,
   "metadata": {},
   "outputs": [],
   "source": [
    "N = 100"
   ]
  },
  {
   "cell_type": "code",
   "execution_count": 22,
   "metadata": {},
   "outputs": [],
   "source": [
    "max_scalar_value=100.\n",
    "SHRT_MAX = 32767\n",
    "scaling_parameter=float(SHRT_MAX)/sqrt(max_scalar_value)"
   ]
  },
  {
   "cell_type": "code",
   "execution_count": 19,
   "metadata": {},
   "outputs": [
    {
     "data": {
      "text/plain": [
       "array([ 27365.,   2143.,  -3123., -28830.,  -4684., -19808., -28424.,\n",
       "         9210., -29371., -30024., -31008.,  30194.,   3258.,  -1442.,\n",
       "        -2247.,  16211.,  10867.,  30906.,  27528., -13848., -10867.,\n",
       "        18832.,  15741.,  -5620., -11237., -10341., -31135.,  28540.,\n",
       "       -11507., -30110.,  -5938.,  26859., -32682., -29702.,   4841.,\n",
       "       -31285., -30124.,  21206.,  17034.,  17018., -14252.,  17440.,\n",
       "        22618., -29099., -23433.,  31434.,  23666.,  10706., -14076.,\n",
       "       -28356., -21123., -27483.,  10171.,  21912., -27606.,  10623.,\n",
       "       -30877., -29591.,  32738.,  21565.,  10631.,  10286.,  17693.,\n",
       "        30698.,  32507.,  26866.,  22876.,  13851., -25097., -27761.,\n",
       "         -464.,  -5018.,   3949.,  22541.,   1161.,  31488., -31306.,\n",
       "         3821.,  10437., -14281.,  29134.,  22745.,  14414.,  22928.,\n",
       "        32214.,  30335.,  15183.,  30716.,  14632., -30100.,  -6504.,\n",
       "       -27064., -16321., -32537.,  24793.,  30695.,  20302.,  24111.,\n",
       "       -15161.,   7412.])"
      ]
     },
     "execution_count": 19,
     "metadata": {},
     "output_type": "execute_result"
    }
   ],
   "source": [
    "v = np.random.random(size=N)*1000\n",
    "sign = np.sign(v)\n",
    "sign* (scaling_parameter*np.sqrt(np.abs(v))).astype(np.int16)"
   ]
  },
  {
   "cell_type": "code",
   "execution_count": 23,
   "metadata": {},
   "outputs": [
    {
     "data": {
      "text/plain": [
       "9.313794206365304e-07"
      ]
     },
     "execution_count": 23,
     "metadata": {},
     "output_type": "execute_result"
    }
   ],
   "source": [
    "1000./SHRT_MAX**2."
   ]
  }
 ],
 "metadata": {
  "kernelspec": {
   "display_name": "Python 2",
   "language": "python",
   "name": "python2"
  },
  "language_info": {
   "codemirror_mode": {
    "name": "ipython",
    "version": 2
   },
   "file_extension": ".py",
   "mimetype": "text/x-python",
   "name": "python",
   "nbconvert_exporter": "python",
   "pygments_lexer": "ipython2",
   "version": "2.7.15"
  }
 },
 "nbformat": 4,
 "nbformat_minor": 2
}
