{
 "cells": [
  {
   "cell_type": "code",
   "execution_count": 1,
   "metadata": {
    "collapsed": true
   },
   "outputs": [],
   "source": [
    "import matplotlib.pyplot as plot\n",
    "%matplotlib inline\n",
    "\n",
    "import numpy as np"
   ]
  },
  {
   "cell_type": "code",
   "execution_count": 20,
   "metadata": {
    "collapsed": true
   },
   "outputs": [],
   "source": [
    "x_ = np.linspace(-100, 100, 200)\n",
    "x, y = np.meshgrid(x_, x_, indexing='ij')\n",
    "nx, ny = x.shape\n",
    "nz = 1"
   ]
  },
  {
   "cell_type": "code",
   "execution_count": 21,
   "metadata": {
    "collapsed": true
   },
   "outputs": [],
   "source": [
    "mask = np.sqrt(x*x + y*y) < 25"
   ]
  },
  {
   "cell_type": "code",
   "execution_count": 22,
   "metadata": {
    "collapsed": true
   },
   "outputs": [],
   "source": [
    "d = 1. - np.cos((x + y)/10)\n",
    "#d = 1. - np.cos((x)/10)"
   ]
  },
  {
   "cell_type": "code",
   "execution_count": 23,
   "metadata": {
    "collapsed": false
   },
   "outputs": [
    {
     "data": {
      "text/plain": [
       "<matplotlib.colorbar.Colorbar at 0x1089b9510>"
      ]
     },
     "execution_count": 23,
     "metadata": {},
     "output_type": "execute_result"
    },
    {
     "data": {
      "image/png": "[encoded data removed]",
      "text/plain": [
       "<matplotlib.figure.Figure at 0x108683a50>"
      ]
     },
     "metadata": {},
     "output_type": "display_data"
    }
   ],
   "source": [
    "plot.pcolormesh(x, y, np.ma.masked_array(d, mask=np.logical_not(mask)))\n",
    "plot.colorbar()"
   ]
  },
  {
   "cell_type": "code",
   "execution_count": 24,
   "metadata": {
    "collapsed": true
   },
   "outputs": [],
   "source": [
    "from scipy.io import netcdf_file"
   ]
  },
  {
   "cell_type": "code",
   "execution_count": 25,
   "metadata": {
    "collapsed": false
   },
   "outputs": [],
   "source": [
    "fh = netcdf_file(\"mask_field.nc\", \"w\")\n",
    "\n",
    "fh.createDimension(\"x\", nx)\n",
    "fh.createDimension(\"y\", ny)\n",
    "fh.createDimension(\"z\", nz)\n",
    "\n",
    "maskext = fh.createVariable(\"maskext\", np.int16, (\"x\", \"y\", \"z\"))\n",
    "maskext[:,:,0] = mask.astype(np.int16)\n",
    "\n",
    "fieldext = fh.createVariable(\"fieldext\", np.int16, [\"x\", \"y\", \"z\"])\n",
    "d_scaled = (d - d.min())/(d.max() - d.min())*np.iinfo(np.int16).max\n",
    "fieldext[:,:,0] = d_scaled.astype(np.int16)\n",
    "\n",
    "fh.close()"
   ]
  },
  {
   "cell_type": "code",
   "execution_count": null,
   "metadata": {
    "collapsed": true
   },
   "outputs": [],
   "source": []
  }
 ],
 "metadata": {
  "kernelspec": {
   "display_name": "Python 2",
   "language": "python",
   "name": "python2"
  },
  "language_info": {
   "codemirror_mode": {
    "name": "ipython",
    "version": 2
   },
   "file_extension": ".py",
   "mimetype": "text/x-python",
   "name": "python",
   "nbconvert_exporter": "python",
   "pygments_lexer": "ipython2",
   "version": "2.7.13"
  }
 },
 "nbformat": 4,
 "nbformat_minor": 2
}
