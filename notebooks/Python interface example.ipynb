{
 "cells": [
  {
   "cell_type": "code",
   "execution_count": 1,
   "metadata": {
    "collapsed": true
   },
   "outputs": [],
   "source": [
    "import numpy as np\n",
    "import matplotlib.pyplot as plot\n",
    "\n",
    "import cloud_identification"
   ]
  },
  {
   "cell_type": "code",
   "execution_count": 2,
   "metadata": {},
   "outputs": [
    {
     "name": "stdout",
     "output_type": "stream",
     "text": [
      "25.9807621135\n",
      "[[ 25.90436935]\n",
      " [ 25.77496338]\n",
      " [ 26.00000191]\n",
      " [  0.5       ]]\n"
     ]
    }
   ],
   "source": [
    "l = 100.\n",
    "N = 300\n",
    "\n",
    "dx = l/N\n",
    "\n",
    "x_ = np.linspace(-l/2., l/2., N)\n",
    "y_ = np.linspace(-l/2., l/2., N)\n",
    "z_ = np.linspace(-l/2., l/2., N)\n",
    "\n",
    "x, y, z = np.meshgrid(x_, y_, z_, indexing='ij')\n",
    "\n",
    "r = np.sqrt(x**2. + y**2. + z**2.)\n",
    "\n",
    "lr = 0.3*r.max()\n",
    "\n",
    "mask = r < lr\n",
    "\n",
    "labels = cloud_identification.number_objects(mask=mask, scalar_field=r)\n",
    "scales_cpp = cloud_identification.topological_scales(labels, dx=dx)\n",
    "\n",
    "print lr\n",
    "print scales_cpp"
   ]
  },
  {
   "cell_type": "code",
   "execution_count": null,
   "metadata": {
    "collapsed": true
   },
   "outputs": [],
   "source": []
  }
 ],
 "metadata": {
  "kernelspec": {
   "display_name": "Python 2",
   "language": "python",
   "name": "python2"
  },
  "language_info": {
   "codemirror_mode": {
    "name": "ipython",
    "version": 2
   },
   "file_extension": ".py",
   "mimetype": "text/x-python",
   "name": "python",
   "nbconvert_exporter": "python",
   "pygments_lexer": "ipython2",
   "version": "2.7.15"
  }
 },
 "nbformat": 4,
 "nbformat_minor": 2
}
