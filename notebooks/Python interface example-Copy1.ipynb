{
 "cells": [
  {
   "cell_type": "code",
   "execution_count": 1,
   "metadata": {},
   "outputs": [],
   "source": [
    "import numpy as np\n",
    "import matplotlib.pyplot as plt\n",
    "import xarray as xr\n",
    "\n",
    "import cloud_identification"
   ]
  },
  {
   "cell_type": "code",
   "execution_count": 3,
   "metadata": {},
   "outputs": [],
   "source": [
    "l = 100.\n",
    "N = 300\n",
    "\n",
    "dx = l/N\n",
    "\n",
    "x_ = np.linspace(-l/2., l/2., N)\n",
    "y_ = np.linspace(-l/2., l/2., N)\n",
    "z_ = np.linspace(-l/2., l/2., N)\n",
    "\n",
    "ds = xr.Dataset(coords=dict(x=x_, y=y_, z=z_))\n",
    "\n",
    "ds['r'] = np.sqrt(ds.x**2. + ds.y**2. + ds.z**2.)\n",
    "\n",
    "lr = 0.3*ds.r.max()\n",
    "\n",
    "ds['mask'] = ds.r < lr\n",
    "\n",
    "labels = cloud_identification.number_objects(mask=ds.mask, scalar_field=ds.r)\n",
    "\n",
    "ds['labels'] = (ds.r.dims, labels)"
   ]
  },
  {
   "cell_type": "code",
   "execution_count": 4,
   "metadata": {},
   "outputs": [
    {
     "data": {
      "text/plain": [
       "array([[26.000002],\n",
       "       [25.774963],\n",
       "       [25.90437 ],\n",
       "       [ 0.5     ]], dtype=float32)"
      ]
     },
     "execution_count": 4,
     "metadata": {},
     "output_type": "execute_result"
    }
   ],
   "source": [
    "scales_cpp = cloud_identification.topological_scales(ds.labels, dx=dx)\n",
    "scales_cpp"
   ]
  },
  {
   "cell_type": "code",
   "execution_count": 5,
   "metadata": {},
   "outputs": [],
   "source": [
    "import genesis.objects.minkowski_scales"
   ]
  },
  {
   "cell_type": "code",
   "execution_count": null,
   "metadata": {},
   "outputs": [],
   "source": []
  },
  {
   "cell_type": "code",
   "execution_count": 9,
   "metadata": {},
   "outputs": [
    {
     "data": {
      "text/plain": [
       "<xarray.Dataset>\n",
       "Dimensions:        (object_id: 1)\n",
       "Coordinates:\n",
       "  * object_id      (object_id) int64 1\n",
       "Data variables:\n",
       "    length         (object_id) float32 26.086956\n",
       "    width          (object_id) float32 25.861164\n",
       "    thickness      (object_id) float32 25.991007\n",
       "    genus          (object_id) float32 0.5\n",
       "    planarity      (object_id) float32 -0.0025040947\n",
       "    filamentarity  (object_id) float32 0.004346489\n",
       "    volume         (object_id) float64 7.345e+04\n",
       "    num_cells      (object_id) int32 1963344"
      ]
     },
     "execution_count": 9,
     "metadata": {},
     "output_type": "execute_result"
    }
   ],
   "source": [
    "ds_scales = genesis.objects.minkowski_scales.main(ds.labels.rename(dict(x='xt', y='yt', z='zt')))\n",
    "ds_scales"
   ]
  },
  {
   "cell_type": "code",
   "execution_count": 10,
   "metadata": {},
   "outputs": [],
   "source": [
    "V_scales = ds_scales.length*ds_scales.width*ds_scales.thickness"
   ]
  },
  {
   "cell_type": "code",
   "execution_count": 11,
   "metadata": {},
   "outputs": [
    {
     "data": {
      "text/plain": [
       "<xarray.DataArray (object_id: 1)>\n",
       "array([0.238733])\n",
       "Coordinates:\n",
       "  * object_id  (object_id) int64 1"
      ]
     },
     "execution_count": 11,
     "metadata": {},
     "output_type": "execute_result"
    }
   ],
   "source": [
    "V_scales/ds_scales.volume"
   ]
  },
  {
   "cell_type": "code",
   "execution_count": 13,
   "metadata": {},
   "outputs": [
    {
     "data": {
      "text/plain": [
       "<xarray.DataArray (object_id: 1)>\n",
       "array([0.999634])\n",
       "Coordinates:\n",
       "  * object_id  (object_id) int64 1"
      ]
     },
     "execution_count": 13,
     "metadata": {},
     "output_type": "execute_result"
    }
   ],
   "source": [
    "V = 4./3.*3.14*lr**3.\n",
    "V/ds_scales.volume"
   ]
  },
  {
   "cell_type": "code",
   "execution_count": null,
   "metadata": {},
   "outputs": [],
   "source": []
  }
 ],
 "metadata": {
  "kernelspec": {
   "display_name": "Python 2",
   "language": "python",
   "name": "python2"
  },
  "language_info": {
   "codemirror_mode": {
    "name": "ipython",
    "version": 2
   },
   "file_extension": ".py",
   "mimetype": "text/x-python",
   "name": "python",
   "nbconvert_exporter": "python",
   "pygments_lexer": "ipython2",
   "version": "2.7.15"
  }
 },
 "nbformat": 4,
 "nbformat_minor": 2
}
